{
 "cells": [
  {
   "cell_type": "markdown",
   "id": "8dac0651",
   "metadata": {},
   "source": [
    "# First Steps\n"
   ]
  },
  {
   "cell_type": "markdown",
   "id": "39294060",
   "metadata": {},
   "source": [
    "## Numbers"
   ]
  },
  {
   "cell_type": "markdown",
   "id": "7b4c9692",
   "metadata": {},
   "source": [
    "### Integer"
   ]
  },
  {
   "cell_type": "code",
   "execution_count": 77,
   "id": "be76583a",
   "metadata": {},
   "outputs": [
    {
     "name": "stdout",
     "output_type": "stream",
     "text": [
      "11\n"
     ]
    }
   ],
   "source": [
    "float_operation = int(5.99999999 * 2)\n",
    "print(float_operation)"
   ]
  },
  {
   "cell_type": "markdown",
   "id": "c7acef5c",
   "metadata": {},
   "source": [
    "### Imaginary (Complex)"
   ]
  },
  {
   "cell_type": "markdown",
   "id": "e1acd6ff",
   "metadata": {},
   "source": [
    "a + bJ; a and b: floating-point, J: square root of -1"
   ]
  },
  {
   "cell_type": "code",
   "execution_count": 63,
   "id": "39ad4e8b",
   "metadata": {},
   "outputs": [
    {
     "name": "stdout",
     "output_type": "stream",
     "text": [
      "(-1.2+5.4j)\n"
     ]
    }
   ],
   "source": [
    "complex = -1.2+5.4J\n",
    "print(complex)"
   ]
  },
  {
   "cell_type": "markdown",
   "id": "dd377a87",
   "metadata": {},
   "source": [
    "### Scientific notation for floating point numbers"
   ]
  },
  {
   "cell_type": "markdown",
   "id": "ede947aa",
   "metadata": {},
   "source": [
    "Useful for very large and very small numbers.\n",
    "\n",
    "Significant, basis of 10 (e) and exponent"
   ]
  },
  {
   "cell_type": "code",
   "execution_count": 68,
   "id": "9f5e740d",
   "metadata": {},
   "outputs": [
    {
     "name": "stdout",
     "output_type": "stream",
     "text": [
      "3100000.0\n",
      "-0.00014\n"
     ]
    }
   ],
   "source": [
    "weight = 3.1e6\n",
    "error = -1.4e-4\n",
    "\n",
    "print(weight)\n",
    "print(error)"
   ]
  },
  {
   "cell_type": "markdown",
   "id": "0462debb",
   "metadata": {},
   "source": [
    "### Octal & Hexadecimal\n",
    "- Octal is represented by 0o<octal>\n",
    "- Hexadecimal is represented by the notation 0x<hex>"
   ]
  },
  {
   "cell_type": "code",
   "execution_count": 70,
   "id": "b7a88682",
   "metadata": {},
   "outputs": [
    {
     "name": "stdout",
     "output_type": "stream",
     "text": [
      "511\n",
      "1911\n"
     ]
    }
   ],
   "source": [
    "octal = 0o777\n",
    "hexadecimal = 0x777\n",
    "\n",
    "print(octal)\n",
    "print(hexadecimal)"
   ]
  },
  {
   "cell_type": "markdown",
   "id": "ad6b4b41",
   "metadata": {},
   "source": [
    "---\n",
    "## Data structures\n",
    "### List\n",
    "- Because the list is **ordered**, you have two ways to add items: **append**, which adds an element to the back of the list, and **insert**, which adds an element at a specified index."
   ]
  },
  {
   "cell_type": "code",
   "execution_count": 25,
   "id": "f8a5c4b7",
   "metadata": {},
   "outputs": [
    {
     "name": "stdout",
     "output_type": "stream",
     "text": [
      "[1, 2, 3, 'a', 'b', 'c', 'test', 'a', 'b', 'c']\n"
     ]
    }
   ],
   "source": [
    "my_list = [1, 2, 3, 'a', 'b', 'c', \"test\", 'a', 'b', 'c']\n",
    "print(my_list)"
   ]
  },
  {
   "cell_type": "markdown",
   "id": "da6f838c",
   "metadata": {},
   "source": [
    "### Tuple\n",
    "- A tuple is a sequence of **immutable objects**; they are created using parentheses rather than curly braces or brackets."
   ]
  },
  {
   "cell_type": "code",
   "execution_count": 78,
   "id": "4c0dfe11",
   "metadata": {},
   "outputs": [
    {
     "name": "stdout",
     "output_type": "stream",
     "text": [
      "(1, 2, 3, 'a', 'b', 'c', 'test', 'a', 'b', 'c')\n",
      "Type:  <class 'tuple'>\n"
     ]
    }
   ],
   "source": [
    "my_tuple = (1, 2, 3, 'a', 'b', 'c', \"test\", 'a', 'b', 'c')\n",
    "print(my_tuple)\n",
    "print('Type: ', type(my_tuple))"
   ]
  },
  {
   "cell_type": "markdown",
   "id": "ff896181",
   "metadata": {},
   "source": [
    "### Set & Frozen Set"
   ]
  },
  {
   "cell_type": "markdown",
   "id": "b34e4b2c",
   "metadata": {},
   "source": [
    "- A Python set is a structure that will hold data in an **unsorted manner**.\n",
    "- Sets will **not allow duplicate elements** of the same value.\n",
    "- We can create an **immutable set** in the same way we created the sets above, but we use the keyword **“frozenset”**"
   ]
  },
  {
   "cell_type": "code",
   "execution_count": 26,
   "id": "5ba62570",
   "metadata": {},
   "outputs": [
    {
     "name": "stdout",
     "output_type": "stream",
     "text": [
      "{1, 2, 3, 'a', 'b', 'test', 'c'}\n"
     ]
    }
   ],
   "source": [
    "my_set = {1, 2, 3, 'a', 'b', 'c', \"test\", 'a', 'b', 'c'}\n",
    "print(my_set)"
   ]
  },
  {
   "cell_type": "code",
   "execution_count": 27,
   "id": "09450ece",
   "metadata": {},
   "outputs": [
    {
     "name": "stdout",
     "output_type": "stream",
     "text": [
      "frozenset({1, 2, 3, 'a', 'b', 'test', 'c'})\n"
     ]
    }
   ],
   "source": [
    "my_frozen_set = frozenset(my_set)\n",
    "print(my_frozen_set)"
   ]
  },
  {
   "cell_type": "markdown",
   "id": "7de41945",
   "metadata": {},
   "source": [
    "### Dictionary\n",
    "- Dictionaries are collections that are unordered and changeable (mutable) where each element consists of a key and a value.\n",
    "- You create a dictionary in a way almost identical to creating sets, but for each element, you separate the key from the value with a colon (:) like this"
   ]
  },
  {
   "cell_type": "code",
   "execution_count": 83,
   "id": "68399566",
   "metadata": {},
   "outputs": [
    {
     "name": "stdout",
     "output_type": "stream",
     "text": [
      "{'name': 'Breyner', 'surname': 'Rojas'}\n",
      "The surname is:  Rojas\n"
     ]
    }
   ],
   "source": [
    "my_dictionary = {\"name\": \"Breyner\", \"surname\": \"Rojas\"}\n",
    "print(my_dictionary)\n",
    "print(\"The surname is: \", my_dictionary[\"surname\"])"
   ]
  },
  {
   "cell_type": "markdown",
   "id": "7c2a2a46",
   "metadata": {},
   "source": [
    "---\n",
    "## Files handling\n",
    "- Specifying a filename and an “x” for “create,” an “a” for “append,” a “w” for “write”, or an “r” for “read”.\n",
    "\n",
    "* 'r'\tReads from a file and returns an error if the file does not exist (default).\n",
    "* 'w'\tWrites to a file and creates the file if it does not exist or overwrites an existing file.\n",
    "* 'x'\tExclusive creation that fails if the file already exists.\n",
    "* 'a'\tAppends to a file and creates the file if it does not exist or overwrites an existing file.\n",
    "* 'b'\tBinary mode. Use this mode for non-textual files, such as images.\n",
    "* 't'\tText mode. Use only for textual files (default).\n",
    "* '+'\tActivates read and write methods."
   ]
  },
  {
   "cell_type": "code",
   "execution_count": 54,
   "id": "0b3be1bf",
   "metadata": {},
   "outputs": [
    {
     "name": "stdout",
     "output_type": "stream",
     "text": [
      "Sonnet 2\n",
      "William Shakespeare\n",
      "\n",
      "When forty winters shall besiege thy brow\n",
      "And dig deep trenches in thy beauty’s field,\n",
      "Thy youth’s proud livery, so gazed on now,\n",
      "Will be a tattered weed, of small worth held.\n"
     ]
    }
   ],
   "source": [
    "poem_file = open('./poem.txt', 'r')\n",
    "for line in poem_file:\n",
    "    print(line.strip())\n",
    "poem_file.close()"
   ]
  },
  {
   "cell_type": "code",
   "execution_count": 55,
   "id": "690c7793",
   "metadata": {},
   "outputs": [
    {
     "name": "stdout",
     "output_type": "stream",
     "text": [
      "['Sonnet 2\\n', 'William Shakespeare\\n', '\\n', 'When forty winters shall besiege thy brow\\n', 'And dig deep trenches in thy beauty’s field,\\n', 'Thy youth’s proud livery, so gazed on now,\\n', 'Will be a tattered weed, of small worth held.\\n'] \n",
      "\n",
      "Type:  <class 'list'>\n"
     ]
    }
   ],
   "source": [
    "poem_file = open('./poem.txt', 'r')\n",
    "poem_content = poem_file.readlines()\n",
    "poem_file.close()\n",
    "print(poem_content, '\\n')\n",
    "print('Type: ', type(poem_content))"
   ]
  },
  {
   "cell_type": "code",
   "execution_count": 56,
   "id": "e7ac4035",
   "metadata": {},
   "outputs": [
    {
     "name": "stdout",
     "output_type": "stream",
     "text": [
      "Sonnet 2\n",
      "William Shakespeare\n",
      "\n",
      "When forty winters shall besiege thy brow\n",
      "And dig deep trenches in thy beauty’s field,\n",
      "Thy youth’s proud livery, so gazed on now,\n",
      "Will be a tattered weed, of small worth held.\n",
      "\n"
     ]
    }
   ],
   "source": [
    "with open('./poem.txt', 'r') as poem_file:\n",
    "    line = poem_file.read()\n",
    "    print(line)"
   ]
  },
  {
   "cell_type": "code",
   "execution_count": 57,
   "id": "e9c242b9",
   "metadata": {},
   "outputs": [],
   "source": [
    "with open('./poem.txt', 'a') as poem_file:\n",
    "    poem_file.write('\\nHello world from Jupyter!')"
   ]
  },
  {
   "cell_type": "code",
   "execution_count": 58,
   "id": "42e4fb3f",
   "metadata": {},
   "outputs": [
    {
     "name": "stdout",
     "output_type": "stream",
     "text": [
      "['And dig deep trenches in thy beauty’s field,\\n', 'Thy youth’s proud livery, so gazed on now,\\n', 'Will be a tattered weed, of small worth held.\\n', '\\n', 'Hello world from Jupyter!']\n"
     ]
    }
   ],
   "source": [
    "with open('./poem.txt', 'r') as poem_file:\n",
    "    lines = poem_file.readlines()[-5:] # Read the last 5 lines\n",
    "    print(lines)"
   ]
  },
  {
   "cell_type": "markdown",
   "id": "ed53cb59",
   "metadata": {},
   "source": [
    "---\n",
    "## Statements and expressions"
   ]
  },
  {
   "cell_type": "markdown",
   "id": "2fd951c1",
   "metadata": {},
   "source": [
    "I want to loop through all even numbers from 2 to 20\n"
   ]
  },
  {
   "cell_type": "code",
   "execution_count": 9,
   "id": "cff1b818",
   "metadata": {},
   "outputs": [
    {
     "name": "stdout",
     "output_type": "stream",
     "text": [
      "2\n",
      "4\n",
      "6\n",
      "8\n",
      "10\n",
      "12\n",
      "14\n",
      "16\n",
      "18\n",
      "20\n"
     ]
    }
   ],
   "source": [
    "for x in range(2, 21, 2):\n",
    "    print(x)"
   ]
  },
  {
   "cell_type": "markdown",
   "id": "4a05cd4e",
   "metadata": {},
   "source": [
    "---\n",
    "## Exceptions"
   ]
  },
  {
   "cell_type": "code",
   "execution_count": 5,
   "id": "29ed9edc",
   "metadata": {},
   "outputs": [
    {
     "name": "stdout",
     "output_type": "stream",
     "text": [
      "0\n",
      "Can't divide by zero\n"
     ]
    }
   ],
   "source": [
    "try:\n",
    "    value = input()\n",
    "    result = str(5 / int(value))\n",
    "    print(\"Result: \", result)\n",
    "except ZeroDivisionError:\n",
    "    print(\"Can't divide by zero\")"
   ]
  },
  {
   "cell_type": "code",
   "execution_count": 11,
   "id": "7935d763",
   "metadata": {},
   "outputs": [
    {
     "name": "stderr",
     "output_type": "stream",
     "text": [
      "DEBUG:root:Test\n"
     ]
    }
   ],
   "source": [
    "import logging\n",
    "logger = logging.getLogger()\n",
    "logger.setLevel(logging.DEBUG)\n",
    "logging.debug(\"Test\")"
   ]
  },
  {
   "cell_type": "code",
   "execution_count": 12,
   "id": "34d38a82",
   "metadata": {},
   "outputs": [
    {
     "name": "stderr",
     "output_type": "stream",
     "text": [
      "INFO:root:Log info\n"
     ]
    }
   ],
   "source": [
    "logging.info(\"Log info\")"
   ]
  },
  {
   "cell_type": "code",
   "execution_count": 13,
   "id": "7dd74f18",
   "metadata": {},
   "outputs": [
    {
     "name": "stderr",
     "output_type": "stream",
     "text": [
      "CRITICAL:root:Critical log\n"
     ]
    }
   ],
   "source": [
    "logging.critical(\"Critical log\")"
   ]
  },
  {
   "cell_type": "code",
   "execution_count": 17,
   "id": "669ad846",
   "metadata": {},
   "outputs": [],
   "source": [
    "logging.basicConfig(format=\"$(asctime):s %(message)s\")"
   ]
  },
  {
   "cell_type": "code",
   "execution_count": 15,
   "id": "ff845187",
   "metadata": {},
   "outputs": [
    {
     "name": "stderr",
     "output_type": "stream",
     "text": [
      "WARNING:root:Hello there\n"
     ]
    }
   ],
   "source": [
    "logging.warning(\"Hello there\")"
   ]
  },
  {
   "cell_type": "code",
   "execution_count": 2,
   "id": "16e87015",
   "metadata": {},
   "outputs": [
    {
     "name": "stdout",
     "output_type": "stream",
     "text": [
      "5\n",
      "6\n",
      "7\n",
      "8\n",
      "9\n"
     ]
    }
   ],
   "source": [
    "for i in range(5, 10):\n",
    "    print(i)"
   ]
  },
  {
   "cell_type": "code",
   "execution_count": 3,
   "id": "90729e19",
   "metadata": {},
   "outputs": [
    {
     "name": "stdout",
     "output_type": "stream",
     "text": [
      "o\n"
     ]
    }
   ],
   "source": [
    "name = \"Robert\"\n",
    "print(name[1])"
   ]
  },
  {
   "cell_type": "code",
   "execution_count": null,
   "id": "5b46de24",
   "metadata": {},
   "outputs": [],
   "source": []
  }
 ],
 "metadata": {
  "kernelspec": {
   "display_name": "Python 3 (ipykernel)",
   "language": "python",
   "name": "python3"
  },
  "language_info": {
   "codemirror_mode": {
    "name": "ipython",
    "version": 3
   },
   "file_extension": ".py",
   "mimetype": "text/x-python",
   "name": "python",
   "nbconvert_exporter": "python",
   "pygments_lexer": "ipython3",
   "version": "3.9.13"
  }
 },
 "nbformat": 4,
 "nbformat_minor": 5
}
